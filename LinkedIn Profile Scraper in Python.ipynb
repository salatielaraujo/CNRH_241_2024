{
  "cells": [
    {
      "cell_type": "markdown",
      "metadata": {
        "id": "nM4g9IWMQ6MU"
      },
      "source": [
        "## LinkedIn Profile Scraper in Python"
      ]
    },
    {
      "cell_type": "markdown",
      "metadata": {
        "id": "Tnamvn2fQ6MX"
      },
      "source": [
        "# Announcement-on-ML\n",
        "<a href='http://www.kgptalkie.com' target=\"_blank\"> <img src='https://github.com/laxmimerit/Important-Announcement-on-ML/raw/master/kgptalkie_strips.png'/></a>\n",
        "\n",
        "# ML Resources\n",
        "|  ML Course | Description |\n",
        "|:---|:---|\n",
        "| [**Fine Tuning LLM with HuggingFace Transformers for NLP**](https://www.udemy.com/course/fine-tuning-llm-with-hugging-face-transformers/?referralCode=6DEB3BE17C2644422D8E) | Learn how to fine tune LLM with custom dataset. You will learn basics of transformers then fine tune LLM|\n",
        "| [**Data Visualization in Python Masterclass™: Beginners to Pro**](https://bit.ly/udemy95off_kgptalkie) |  Learn to build Machine Learning and Deep Learning models using Python and its libraries like Scikit-Learn, Keras, and TensorFlow. |\n",
        "| [**Python for Machine Learning: A Step-by-Step Guide**](https://bit.ly/ml-ds-project) | Learn to build Machine Learning and Deep Learning models using Python and its libraries like Scikit-Learn, Keras, and TensorFlow. |\n",
        "| [**Deep Learning for Beginners with Python**](https://bit.ly/dl-with-python) | Neural Networks, TensorFlow, ANN, CNN, RNN, LSTM, Transfer Learning and Much More. |\n",
        "| [**Python for Linear Regression in Machine Learning**](https://bit.ly/regression-python) | Learn to build Linear Regression models using Python and its libraries like Scikit-Learn. |\n",
        "| [**Introduction to Spacy 3 for Natural Language Processing**](https://bit.ly/spacy-intro) | Learn to build Natural Language Processing models using Python and its libraries like Spacy. |\n",
        "| [**Advanced Machine Learning and Deep Learning Projects**](https://bit.ly/kgptalkie_ml_projects) | Learn to build Advanced Machine Learning and Deep Learning models using Python and transformer models like BERT, GPT-2, and XLNet. |\n",
        "| [**Natural Language Processing in Python for Beginners**](https://bit.ly/intro_nlp) | Learn to build Natural Language Processing Projects using Spacy, NLTK, and Gensim, and transformer models like BERT, GPT-2, and XLNet. |\n",
        "| [**Deployment of Machine Learning Models in Production in Python**](https://bit.ly/bert_nlp) |  Learn to deploy Machine Learning and Deep Learning models using Python and its libraries like Flask, Streamlit, and NGINX. |\n",
        "| [**R 4.0 Programming for Data Science - Beginners to Pro**](https://bit.ly/r4-ml) | Learn to build Machine Learning and Deep Learning models using R and its libraries like caret, tidyverse, and keras. |\n"
      ]
    },
    {
      "cell_type": "markdown",
      "metadata": {
        "id": "Nwyg857FQ6MZ"
      },
      "source": [
        "YouTube Video: https://youtu.be/SQtwhuYJk3M"
      ]
    },
    {
      "cell_type": "code",
      "execution_count": 1,
      "metadata": {
        "id": "wzVHKyCRQ6Ma"
      },
      "outputs": [],
      "source": [
        "import warnings\n",
        "warnings.filterwarnings(\"ignore\")"
      ]
    },
    {
      "cell_type": "code",
      "source": [
        "#!pip install selenium\n",
        "#!pip install beautifulsoup4\n",
        "#!pip install lxml\n",
        "!pip install dotenv"
      ],
      "metadata": {
        "id": "HQbaAU9kRBRq",
        "outputId": "14ccc663-2379-4cac-c8d5-942fb24810fa",
        "colab": {
          "base_uri": "https://localhost:8080/"
        }
      },
      "execution_count": 6,
      "outputs": [
        {
          "output_type": "stream",
          "name": "stdout",
          "text": [
            "Collecting dotenv\n",
            "  Downloading dotenv-0.0.5.tar.gz (2.4 kB)\n",
            "  \u001b[1;31merror\u001b[0m: \u001b[1msubprocess-exited-with-error\u001b[0m\n",
            "  \n",
            "  \u001b[31m×\u001b[0m \u001b[32mpython setup.py egg_info\u001b[0m did not run successfully.\n",
            "  \u001b[31m│\u001b[0m exit code: \u001b[1;36m1\u001b[0m\n",
            "  \u001b[31m╰─>\u001b[0m See above for output.\n",
            "  \n",
            "  \u001b[1;35mnote\u001b[0m: This error originates from a subprocess, and is likely not a problem with pip.\n",
            "  Preparing metadata (setup.py) ... \u001b[?25l\u001b[?25herror\n",
            "\u001b[1;31merror\u001b[0m: \u001b[1mmetadata-generation-failed\u001b[0m\n",
            "\n",
            "\u001b[31m×\u001b[0m Encountered error while generating package metadata.\n",
            "\u001b[31m╰─>\u001b[0m See above for output.\n",
            "\n",
            "\u001b[1;35mnote\u001b[0m: This is an issue with the package mentioned above, not pip.\n",
            "\u001b[1;36mhint\u001b[0m: See above for details.\n"
          ]
        }
      ]
    },
    {
      "cell_type": "code",
      "execution_count": 8,
      "metadata": {
        "id": "gvow5gDMQ6Mc"
      },
      "outputs": [],
      "source": [
        "import os\n",
        "from bs4 import BeautifulSoup\n",
        "from selenium import webdriver\n",
        "from selenium.webdriver.common.by import By\n",
        "\n",
        "from time import sleep\n",
        "\n",
        "#from dotenv import load_dotenv\n",
        "#load_dotenv()"
      ]
    },
    {
      "cell_type": "code",
      "execution_count": 9,
      "metadata": {
        "id": "iIhJbEQNQ6Md"
      },
      "outputs": [],
      "source": [
        "# if you don't have a .env file, you can create one and add the following lines:\n",
        "os.environ['EMAIL'] = 'salatiel.araujo@gmail.com'\n",
        "os.environ['PASSWORD'] = ''"
      ]
    },
    {
      "cell_type": "code",
      "execution_count": 10,
      "metadata": {
        "id": "3o4oDHGNQ6Md",
        "outputId": "c5d42af0-4338-44f6-f6d1-0eeddbab1423",
        "colab": {
          "base_uri": "https://localhost:8080/",
          "height": 627
        }
      },
      "outputs": [
        {
          "output_type": "error",
          "ename": "SessionNotCreatedException",
          "evalue": "Message: session not created: probably user data directory is already in use, please specify a unique value for --user-data-dir argument, or don't use --user-data-dir\nStacktrace:\n#0 0x579f16a30bba <unknown>\n#1 0x579f164ce790 <unknown>\n#2 0x579f16507bc5 <unknown>\n#3 0x579f1650392f <unknown>\n#4 0x579f16554369 <unknown>\n#5 0x579f16553896 <unknown>\n#6 0x579f16545823 <unknown>\n#7 0x579f16511a88 <unknown>\n#8 0x579f16512bf1 <unknown>\n#9 0x579f169fa15b <unknown>\n#10 0x579f169fe0e2 <unknown>\n#11 0x579f169e701c <unknown>\n#12 0x579f169fecd4 <unknown>\n#13 0x579f169cb48f <unknown>\n#14 0x579f16a1f4f8 <unknown>\n#15 0x579f16a1f6c9 <unknown>\n#16 0x579f16a2fa36 <unknown>\n#17 0x13034fe52ac3 <unknown>\n",
          "traceback": [
            "\u001b[0;31m---------------------------------------------------------------------------\u001b[0m",
            "\u001b[0;31mSessionNotCreatedException\u001b[0m                Traceback (most recent call last)",
            "\u001b[0;32m<ipython-input-10-ec48251f04f8>\u001b[0m in \u001b[0;36m<cell line: 0>\u001b[0;34m()\u001b[0m\n\u001b[0;32m----> 1\u001b[0;31m \u001b[0mdriver\u001b[0m \u001b[0;34m=\u001b[0m \u001b[0mwebdriver\u001b[0m\u001b[0;34m.\u001b[0m\u001b[0mChrome\u001b[0m\u001b[0;34m(\u001b[0m\u001b[0;34m)\u001b[0m\u001b[0;34m\u001b[0m\u001b[0;34m\u001b[0m\u001b[0m\n\u001b[0m",
            "\u001b[0;32m/usr/local/lib/python3.11/dist-packages/selenium/webdriver/chrome/webdriver.py\u001b[0m in \u001b[0;36m__init__\u001b[0;34m(self, options, service, keep_alive)\u001b[0m\n\u001b[1;32m     43\u001b[0m         \u001b[0moptions\u001b[0m \u001b[0;34m=\u001b[0m \u001b[0moptions\u001b[0m \u001b[0;32mif\u001b[0m \u001b[0moptions\u001b[0m \u001b[0;32melse\u001b[0m \u001b[0mOptions\u001b[0m\u001b[0;34m(\u001b[0m\u001b[0;34m)\u001b[0m\u001b[0;34m\u001b[0m\u001b[0;34m\u001b[0m\u001b[0m\n\u001b[1;32m     44\u001b[0m \u001b[0;34m\u001b[0m\u001b[0m\n\u001b[0;32m---> 45\u001b[0;31m         super().__init__(\n\u001b[0m\u001b[1;32m     46\u001b[0m             \u001b[0mbrowser_name\u001b[0m\u001b[0;34m=\u001b[0m\u001b[0mDesiredCapabilities\u001b[0m\u001b[0;34m.\u001b[0m\u001b[0mCHROME\u001b[0m\u001b[0;34m[\u001b[0m\u001b[0;34m\"browserName\"\u001b[0m\u001b[0;34m]\u001b[0m\u001b[0;34m,\u001b[0m\u001b[0;34m\u001b[0m\u001b[0;34m\u001b[0m\u001b[0m\n\u001b[1;32m     47\u001b[0m             \u001b[0mvendor_prefix\u001b[0m\u001b[0;34m=\u001b[0m\u001b[0;34m\"goog\"\u001b[0m\u001b[0;34m,\u001b[0m\u001b[0;34m\u001b[0m\u001b[0;34m\u001b[0m\u001b[0m\n",
            "\u001b[0;32m/usr/local/lib/python3.11/dist-packages/selenium/webdriver/chromium/webdriver.py\u001b[0m in \u001b[0;36m__init__\u001b[0;34m(self, browser_name, vendor_prefix, options, service, keep_alive)\u001b[0m\n\u001b[1;32m     64\u001b[0m \u001b[0;34m\u001b[0m\u001b[0m\n\u001b[1;32m     65\u001b[0m         \u001b[0;32mtry\u001b[0m\u001b[0;34m:\u001b[0m\u001b[0;34m\u001b[0m\u001b[0;34m\u001b[0m\u001b[0m\n\u001b[0;32m---> 66\u001b[0;31m             \u001b[0msuper\u001b[0m\u001b[0;34m(\u001b[0m\u001b[0;34m)\u001b[0m\u001b[0;34m.\u001b[0m\u001b[0m__init__\u001b[0m\u001b[0;34m(\u001b[0m\u001b[0mcommand_executor\u001b[0m\u001b[0;34m=\u001b[0m\u001b[0mexecutor\u001b[0m\u001b[0;34m,\u001b[0m \u001b[0moptions\u001b[0m\u001b[0;34m=\u001b[0m\u001b[0moptions\u001b[0m\u001b[0;34m)\u001b[0m\u001b[0;34m\u001b[0m\u001b[0;34m\u001b[0m\u001b[0m\n\u001b[0m\u001b[1;32m     67\u001b[0m         \u001b[0;32mexcept\u001b[0m \u001b[0mException\u001b[0m\u001b[0;34m:\u001b[0m\u001b[0;34m\u001b[0m\u001b[0;34m\u001b[0m\u001b[0m\n\u001b[1;32m     68\u001b[0m             \u001b[0mself\u001b[0m\u001b[0;34m.\u001b[0m\u001b[0mquit\u001b[0m\u001b[0;34m(\u001b[0m\u001b[0;34m)\u001b[0m\u001b[0;34m\u001b[0m\u001b[0;34m\u001b[0m\u001b[0m\n",
            "\u001b[0;32m/usr/local/lib/python3.11/dist-packages/selenium/webdriver/remote/webdriver.py\u001b[0m in \u001b[0;36m__init__\u001b[0;34m(self, command_executor, keep_alive, file_detector, options, locator_converter, web_element_cls, client_config)\u001b[0m\n\u001b[1;32m    248\u001b[0m         \u001b[0mself\u001b[0m\u001b[0;34m.\u001b[0m\u001b[0m_authenticator_id\u001b[0m \u001b[0;34m=\u001b[0m \u001b[0;32mNone\u001b[0m\u001b[0;34m\u001b[0m\u001b[0;34m\u001b[0m\u001b[0m\n\u001b[1;32m    249\u001b[0m         \u001b[0mself\u001b[0m\u001b[0;34m.\u001b[0m\u001b[0mstart_client\u001b[0m\u001b[0;34m(\u001b[0m\u001b[0;34m)\u001b[0m\u001b[0;34m\u001b[0m\u001b[0;34m\u001b[0m\u001b[0m\n\u001b[0;32m--> 250\u001b[0;31m         \u001b[0mself\u001b[0m\u001b[0;34m.\u001b[0m\u001b[0mstart_session\u001b[0m\u001b[0;34m(\u001b[0m\u001b[0mcapabilities\u001b[0m\u001b[0;34m)\u001b[0m\u001b[0;34m\u001b[0m\u001b[0;34m\u001b[0m\u001b[0m\n\u001b[0m\u001b[1;32m    251\u001b[0m         \u001b[0mself\u001b[0m\u001b[0;34m.\u001b[0m\u001b[0m_fedcm\u001b[0m \u001b[0;34m=\u001b[0m \u001b[0mFedCM\u001b[0m\u001b[0;34m(\u001b[0m\u001b[0mself\u001b[0m\u001b[0;34m)\u001b[0m\u001b[0;34m\u001b[0m\u001b[0;34m\u001b[0m\u001b[0m\n\u001b[1;32m    252\u001b[0m \u001b[0;34m\u001b[0m\u001b[0m\n",
            "\u001b[0;32m/usr/local/lib/python3.11/dist-packages/selenium/webdriver/remote/webdriver.py\u001b[0m in \u001b[0;36mstart_session\u001b[0;34m(self, capabilities)\u001b[0m\n\u001b[1;32m    340\u001b[0m \u001b[0;34m\u001b[0m\u001b[0m\n\u001b[1;32m    341\u001b[0m         \u001b[0mcaps\u001b[0m \u001b[0;34m=\u001b[0m \u001b[0m_create_caps\u001b[0m\u001b[0;34m(\u001b[0m\u001b[0mcapabilities\u001b[0m\u001b[0;34m)\u001b[0m\u001b[0;34m\u001b[0m\u001b[0;34m\u001b[0m\u001b[0m\n\u001b[0;32m--> 342\u001b[0;31m         \u001b[0mresponse\u001b[0m \u001b[0;34m=\u001b[0m \u001b[0mself\u001b[0m\u001b[0;34m.\u001b[0m\u001b[0mexecute\u001b[0m\u001b[0;34m(\u001b[0m\u001b[0mCommand\u001b[0m\u001b[0;34m.\u001b[0m\u001b[0mNEW_SESSION\u001b[0m\u001b[0;34m,\u001b[0m \u001b[0mcaps\u001b[0m\u001b[0;34m)\u001b[0m\u001b[0;34m[\u001b[0m\u001b[0;34m\"value\"\u001b[0m\u001b[0;34m]\u001b[0m\u001b[0;34m\u001b[0m\u001b[0;34m\u001b[0m\u001b[0m\n\u001b[0m\u001b[1;32m    343\u001b[0m         \u001b[0mself\u001b[0m\u001b[0;34m.\u001b[0m\u001b[0msession_id\u001b[0m \u001b[0;34m=\u001b[0m \u001b[0mresponse\u001b[0m\u001b[0;34m.\u001b[0m\u001b[0mget\u001b[0m\u001b[0;34m(\u001b[0m\u001b[0;34m\"sessionId\"\u001b[0m\u001b[0;34m)\u001b[0m\u001b[0;34m\u001b[0m\u001b[0;34m\u001b[0m\u001b[0m\n\u001b[1;32m    344\u001b[0m         \u001b[0mself\u001b[0m\u001b[0;34m.\u001b[0m\u001b[0mcaps\u001b[0m \u001b[0;34m=\u001b[0m \u001b[0mresponse\u001b[0m\u001b[0;34m.\u001b[0m\u001b[0mget\u001b[0m\u001b[0;34m(\u001b[0m\u001b[0;34m\"capabilities\"\u001b[0m\u001b[0;34m)\u001b[0m\u001b[0;34m\u001b[0m\u001b[0;34m\u001b[0m\u001b[0m\n",
            "\u001b[0;32m/usr/local/lib/python3.11/dist-packages/selenium/webdriver/remote/webdriver.py\u001b[0m in \u001b[0;36mexecute\u001b[0;34m(self, driver_command, params)\u001b[0m\n\u001b[1;32m    427\u001b[0m         \u001b[0mresponse\u001b[0m \u001b[0;34m=\u001b[0m \u001b[0mself\u001b[0m\u001b[0;34m.\u001b[0m\u001b[0mcommand_executor\u001b[0m\u001b[0;34m.\u001b[0m\u001b[0mexecute\u001b[0m\u001b[0;34m(\u001b[0m\u001b[0mdriver_command\u001b[0m\u001b[0;34m,\u001b[0m \u001b[0mparams\u001b[0m\u001b[0;34m)\u001b[0m\u001b[0;34m\u001b[0m\u001b[0;34m\u001b[0m\u001b[0m\n\u001b[1;32m    428\u001b[0m         \u001b[0;32mif\u001b[0m \u001b[0mresponse\u001b[0m\u001b[0;34m:\u001b[0m\u001b[0;34m\u001b[0m\u001b[0;34m\u001b[0m\u001b[0m\n\u001b[0;32m--> 429\u001b[0;31m             \u001b[0mself\u001b[0m\u001b[0;34m.\u001b[0m\u001b[0merror_handler\u001b[0m\u001b[0;34m.\u001b[0m\u001b[0mcheck_response\u001b[0m\u001b[0;34m(\u001b[0m\u001b[0mresponse\u001b[0m\u001b[0;34m)\u001b[0m\u001b[0;34m\u001b[0m\u001b[0;34m\u001b[0m\u001b[0m\n\u001b[0m\u001b[1;32m    430\u001b[0m             \u001b[0mresponse\u001b[0m\u001b[0;34m[\u001b[0m\u001b[0;34m\"value\"\u001b[0m\u001b[0;34m]\u001b[0m \u001b[0;34m=\u001b[0m \u001b[0mself\u001b[0m\u001b[0;34m.\u001b[0m\u001b[0m_unwrap_value\u001b[0m\u001b[0;34m(\u001b[0m\u001b[0mresponse\u001b[0m\u001b[0;34m.\u001b[0m\u001b[0mget\u001b[0m\u001b[0;34m(\u001b[0m\u001b[0;34m\"value\"\u001b[0m\u001b[0;34m,\u001b[0m \u001b[0;32mNone\u001b[0m\u001b[0;34m)\u001b[0m\u001b[0;34m)\u001b[0m\u001b[0;34m\u001b[0m\u001b[0;34m\u001b[0m\u001b[0m\n\u001b[1;32m    431\u001b[0m             \u001b[0;32mreturn\u001b[0m \u001b[0mresponse\u001b[0m\u001b[0;34m\u001b[0m\u001b[0;34m\u001b[0m\u001b[0m\n",
            "\u001b[0;32m/usr/local/lib/python3.11/dist-packages/selenium/webdriver/remote/errorhandler.py\u001b[0m in \u001b[0;36mcheck_response\u001b[0;34m(self, response)\u001b[0m\n\u001b[1;32m    230\u001b[0m                 \u001b[0malert_text\u001b[0m \u001b[0;34m=\u001b[0m \u001b[0mvalue\u001b[0m\u001b[0;34m[\u001b[0m\u001b[0;34m\"alert\"\u001b[0m\u001b[0;34m]\u001b[0m\u001b[0;34m.\u001b[0m\u001b[0mget\u001b[0m\u001b[0;34m(\u001b[0m\u001b[0;34m\"text\"\u001b[0m\u001b[0;34m)\u001b[0m\u001b[0;34m\u001b[0m\u001b[0;34m\u001b[0m\u001b[0m\n\u001b[1;32m    231\u001b[0m             \u001b[0;32mraise\u001b[0m \u001b[0mexception_class\u001b[0m\u001b[0;34m(\u001b[0m\u001b[0mmessage\u001b[0m\u001b[0;34m,\u001b[0m \u001b[0mscreen\u001b[0m\u001b[0;34m,\u001b[0m \u001b[0mstacktrace\u001b[0m\u001b[0;34m,\u001b[0m \u001b[0malert_text\u001b[0m\u001b[0;34m)\u001b[0m  \u001b[0;31m# type: ignore[call-arg]  # mypy is not smart enough here\u001b[0m\u001b[0;34m\u001b[0m\u001b[0;34m\u001b[0m\u001b[0m\n\u001b[0;32m--> 232\u001b[0;31m         \u001b[0;32mraise\u001b[0m \u001b[0mexception_class\u001b[0m\u001b[0;34m(\u001b[0m\u001b[0mmessage\u001b[0m\u001b[0;34m,\u001b[0m \u001b[0mscreen\u001b[0m\u001b[0;34m,\u001b[0m \u001b[0mstacktrace\u001b[0m\u001b[0;34m)\u001b[0m\u001b[0;34m\u001b[0m\u001b[0;34m\u001b[0m\u001b[0m\n\u001b[0m",
            "\u001b[0;31mSessionNotCreatedException\u001b[0m: Message: session not created: probably user data directory is already in use, please specify a unique value for --user-data-dir argument, or don't use --user-data-dir\nStacktrace:\n#0 0x579f16a30bba <unknown>\n#1 0x579f164ce790 <unknown>\n#2 0x579f16507bc5 <unknown>\n#3 0x579f1650392f <unknown>\n#4 0x579f16554369 <unknown>\n#5 0x579f16553896 <unknown>\n#6 0x579f16545823 <unknown>\n#7 0x579f16511a88 <unknown>\n#8 0x579f16512bf1 <unknown>\n#9 0x579f169fa15b <unknown>\n#10 0x579f169fe0e2 <unknown>\n#11 0x579f169e701c <unknown>\n#12 0x579f169fecd4 <unknown>\n#13 0x579f169cb48f <unknown>\n#14 0x579f16a1f4f8 <unknown>\n#15 0x579f16a1f6c9 <unknown>\n#16 0x579f16a2fa36 <unknown>\n#17 0x13034fe52ac3 <unknown>\n"
          ]
        }
      ],
      "source": [
        "driver = webdriver.Chrome()"
      ]
    },
    {
      "cell_type": "code",
      "execution_count": null,
      "metadata": {
        "id": "Xp4y99L8Q6Me"
      },
      "outputs": [],
      "source": [
        "driver.get('https://www.linkedin.com/login')"
      ]
    },
    {
      "cell_type": "code",
      "execution_count": null,
      "metadata": {
        "id": "kHHcUZyHQ6Me",
        "outputId": "2b148742-aca8-478b-a975-a05977a2275c"
      },
      "outputs": [
        {
          "data": {
            "text/plain": [
              "'LinkedIn Login, Sign in | LinkedIn'"
            ]
          },
          "execution_count": 7,
          "metadata": {},
          "output_type": "execute_result"
        }
      ],
      "source": [
        "driver.title"
      ]
    },
    {
      "cell_type": "code",
      "execution_count": null,
      "metadata": {
        "id": "c1EegPjlQ6Me"
      },
      "outputs": [],
      "source": [
        "email = driver.find_element(By.ID, 'username')\n",
        "email.send_keys(os.environ['EMAIL'])\n",
        "\n",
        "password = driver.find_element(By.ID, 'password')\n",
        "password.send_keys(os.environ['PASSWORD'])\n",
        "\n",
        "password.submit()"
      ]
    },
    {
      "cell_type": "code",
      "execution_count": null,
      "metadata": {
        "id": "Xx7AISEWQ6Me"
      },
      "outputs": [],
      "source": [
        "## MAKE SURE TO USE ONLY THIS URL TO AVOID BEING STUCK IN ERRORS\n",
        "\n",
        "url = \"https://www.linkedin.com/in/laxmimerit\"\n",
        "driver.get(url)"
      ]
    },
    {
      "cell_type": "code",
      "execution_count": null,
      "metadata": {
        "id": "5KOdNk4fQ6Mf"
      },
      "outputs": [],
      "source": [
        "profile_data = {}"
      ]
    },
    {
      "cell_type": "code",
      "execution_count": null,
      "metadata": {
        "id": "RXl9vhDQQ6Mf",
        "outputId": "54d21a9b-7ca1-4948-d28b-e4900fa093e6"
      },
      "outputs": [
        {
          "data": {
            "text/plain": [
              "'Laxmi Kant | LinkedIn'"
            ]
          },
          "execution_count": 16,
          "metadata": {},
          "output_type": "execute_result"
        }
      ],
      "source": [
        "driver.title"
      ]
    },
    {
      "cell_type": "code",
      "execution_count": null,
      "metadata": {
        "id": "ej36tmMUQ6Mf"
      },
      "outputs": [],
      "source": [
        "page_source = driver.page_source\n",
        "soup = BeautifulSoup(page_source, 'lxml')\n",
        "\n",
        "name = soup.find('h1', {'class': 'text-heading-xlarge inline t-24 v-align-middle break-words'})\n",
        "\n",
        "name = name.get_text().strip()\n",
        "\n",
        "profile_data['name'] = name\n",
        "profile_data['url'] = url"
      ]
    },
    {
      "cell_type": "code",
      "execution_count": null,
      "metadata": {
        "id": "NyzDAQSSQ6Mg",
        "outputId": "3dd4f463-d7a0-4b7f-f45e-942a71c5a082"
      },
      "outputs": [
        {
          "data": {
            "text/plain": [
              "{'name': 'Laxmi Kant', 'url': 'https://www.linkedin.com/in/laxmimerit'}"
            ]
          },
          "execution_count": 21,
          "metadata": {},
          "output_type": "execute_result"
        }
      ],
      "source": [
        "profile_data"
      ]
    },
    {
      "cell_type": "code",
      "execution_count": null,
      "metadata": {
        "id": "HFVHYrO3Q6Mg"
      },
      "outputs": [],
      "source": [
        "headline = soup.find('div', {'class': 'text-body-medium break-words'})\n",
        "headline = headline.get_text().strip()\n",
        "\n",
        "profile_data['headline'] = headline"
      ]
    },
    {
      "cell_type": "code",
      "execution_count": null,
      "metadata": {
        "id": "Iwi3uxB9Q6Mg",
        "outputId": "ace4b58d-f452-489b-dd85-daa9c654ec4b"
      },
      "outputs": [
        {
          "data": {
            "text/plain": [
              "{'name': 'Laxmi Kant',\n",
              " 'url': 'https://www.linkedin.com/in/laxmimerit',\n",
              " 'headline': 'Gen AI in Finance & Investment Services | Data Scientist | IIT Kharagpur | Asset Management | AI-Driven Financial Modeling | Search Ranking | NLP Python BERT AWS Elasticsearch GNN SQL LLM | AI in Investment Strategies'}"
            ]
          },
          "execution_count": 25,
          "metadata": {},
          "output_type": "execute_result"
        }
      ],
      "source": [
        "profile_data"
      ]
    },
    {
      "cell_type": "markdown",
      "metadata": {
        "id": "cXZ1-hFMQ6Mh"
      },
      "source": [
        "### Show More"
      ]
    },
    {
      "cell_type": "code",
      "execution_count": null,
      "metadata": {
        "id": "IOUFoiyTQ6Mh"
      },
      "outputs": [],
      "source": [
        "driver.find_element(By.CLASS_NAME, \"inline-show-more-text__button\").click()"
      ]
    },
    {
      "cell_type": "code",
      "execution_count": null,
      "metadata": {
        "id": "ojRDMartQ6Mh"
      },
      "outputs": [],
      "source": [
        "page_source = driver.page_source\n",
        "soup = BeautifulSoup(page_source, 'lxml')\n",
        "\n",
        "about = soup.find('div', {'class': 'display-flex ph5 pv3'})\n",
        "\n",
        "about = about.get_text().strip()\n",
        "\n",
        "profile_data['about'] = about"
      ]
    },
    {
      "cell_type": "code",
      "execution_count": null,
      "metadata": {
        "id": "E0Iw0YsTQ6Mh",
        "outputId": "1935dc5a-9a27-4063-d8c1-77648514c91e"
      },
      "outputs": [
        {
          "data": {
            "text/plain": [
              "{'name': 'Laxmi Kant',\n",
              " 'url': 'https://www.linkedin.com/in/laxmimerit',\n",
              " 'headline': 'Gen AI in Finance & Investment Services | Data Scientist | IIT Kharagpur | Asset Management | AI-Driven Financial Modeling | Search Ranking | NLP Python BERT AWS Elasticsearch GNN SQL LLM | AI in Investment Strategies',\n",
              " 'about': 'Demonstrated 8+ years of expertise in advanced analytics as an AVP in Data Science, showcasing dynamic and impactful contributions. Seeking to leverage expertise in customer behavior modeling, personalized marketing, product discovery & search optimization, and recommendations to drive impactful solutions in the fields of Data Science, Machine Learning, and Artificial Intelligence.👉 Significant Achievements Across Career▪ Strategically led impactful initiatives in Customer Behavior Modeling, resulting in a substantial 30% increase in customer retention and a 10% reduction in advertising spending.▪ Pioneered the development and implementation of a Machine Learning product relevance ranking system, contributing to a remarkable 30% increase in conversion rates and a 20% growth in revenue.▪ Applied innovative techniques, including Social Graph Analytics and Predictive  Modeling, achieving a 35% improvement in recommendation conversion rates and a 40% increase in customer care calling conversion rates.▪ Revolutionized customer segmentation and ranking, realizing a notable 20% improvement in conversion rates.▪ Engineered predictive models for email open rates, driving a remarkable 70% improvement in email engagement.▪ Achieved transformative outcomes, including a substantial 50% improvement in search conversion rates, a notable 60% increase in revenue, and an impressive 90% reduction in zero-result queries.▪ A strategic driver of user satisfaction and engagement, evidenced by a commendable 10% decrease in exit rates.Demonstrated 8+ years of expertise in advanced analytics as an AVP in Data Science, showcasing dynamic and impactful contributions. Seeking to leverage expertise in customer behavior modeling, personalized marketing, product discovery & search optimization, and recommendations to drive impactful solutions in the fields of Data Science, Machine Learning, and Artificial Intelligence.\\n\\n👉 Significant Achievements Across Career\\n▪ Strategically led impactful initiatives in Customer Behavior Modeling, resulting in a substantial 30% increase in customer retention and a 10% reduction in advertising spending.\\n\\n▪ Pioneered the development and implementation of a Machine Learning product relevance ranking system, contributing to a remarkable 30% increase in conversion rates and a 20% growth in revenue.\\n\\n▪ Applied innovative techniques, including Social Graph Analytics and Predictive  Modeling, achieving a 35% improvement in recommendation conversion rates and a 40% increase in customer care calling conversion rates.\\n\\n▪ Revolutionized customer segmentation and ranking, realizing a notable 20% improvement in conversion rates.\\n\\n▪ Engineered predictive models for email open rates, driving a remarkable 70% improvement in email engagement.\\n\\n▪ Achieved transformative outcomes, including a substantial 50% improvement in search conversion rates, a notable 60% increase in revenue, and an impressive 90% reduction in zero-result queries.\\n\\n▪ A strategic driver of user satisfaction and engagement, evidenced by a commendable 10% decrease in exit rates.'}"
            ]
          },
          "execution_count": 30,
          "metadata": {},
          "output_type": "execute_result"
        }
      ],
      "source": [
        "profile_data"
      ]
    },
    {
      "cell_type": "markdown",
      "metadata": {
        "id": "SULfEr1tQ6Mh"
      },
      "source": [
        "### Read Experience"
      ]
    },
    {
      "cell_type": "code",
      "execution_count": null,
      "metadata": {
        "id": "fx7zUU_aQ6Mi"
      },
      "outputs": [],
      "source": [
        "page_source = driver.page_source\n",
        "soup = BeautifulSoup(page_source, 'lxml')\n",
        "\n",
        "sections = soup.find_all('section', {'class': 'artdeco-card pv-profile-card break-words mt2'})"
      ]
    },
    {
      "cell_type": "code",
      "execution_count": null,
      "metadata": {
        "id": "xmHoIuW5Q6Mi"
      },
      "outputs": [],
      "source": [
        "for sec in sections:\n",
        "    if sec.find('div', {'id': 'experience'}):\n",
        "        experience = sec\n",
        "\n",
        "# print(experience.get_text().strip())"
      ]
    },
    {
      "cell_type": "code",
      "execution_count": null,
      "metadata": {
        "id": "mg-RhtWrQ6Mi"
      },
      "outputs": [],
      "source": [
        "experience = experience.find_all('div', {'class': 'gFJNglFOnyZmIAbxVkrWpQCmMhGSasZRfRtGlFg YcvguSXGGYgEmpWJOhQrhmNocNiIvvDjETE bAMoJMoZyFCvvmHkHNQEBnMuJTWUocrss'})"
      ]
    },
    {
      "cell_type": "code",
      "execution_count": null,
      "metadata": {
        "id": "M8RrV0GRQ6Mi",
        "outputId": "db6ed43a-baef-44df-da2a-7a143c692047"
      },
      "outputs": [
        {
          "data": {
            "text/plain": [
              "3"
            ]
          },
          "execution_count": 40,
          "metadata": {},
          "output_type": "execute_result"
        }
      ],
      "source": [
        "len(experience)"
      ]
    },
    {
      "cell_type": "code",
      "execution_count": null,
      "metadata": {
        "id": "jDFKvBF3Q6Mi"
      },
      "outputs": [],
      "source": [
        "exp = experience[0]"
      ]
    },
    {
      "cell_type": "code",
      "execution_count": null,
      "metadata": {
        "id": "2srB3EULQ6Mi"
      },
      "outputs": [],
      "source": [
        "def get_exp(exp):\n",
        "\n",
        "    exp_dict = {}\n",
        "\n",
        "    name = exp.find('div', {'class': 'display-flex flex-wrap align-items-center full-height'})\n",
        "    name = name.find('span', {'class': 'visually-hidden'})\n",
        "    name = name.get_text().strip()\n",
        "\n",
        "    duration = exp.find('span', {'class': 't-14 t-normal'})\n",
        "    duration = duration.find('span', {'class': 'visually-hidden'})\n",
        "    duration = duration.get_text().strip()\n",
        "    duration\n",
        "\n",
        "    exp_dict['company_name'] = name\n",
        "    exp_dict['duration'] = duration\n",
        "\n",
        "    designations = exp.find_all('div', {'class': 'gFJNglFOnyZmIAbxVkrWpQCmMhGSasZRfRtGlFg'})\n",
        "\n",
        "    item_list = []\n",
        "    for position in designations:\n",
        "        spans = position.find_all('span', {'class': 'visually-hidden'})\n",
        "\n",
        "        item_dict = {}\n",
        "        item_dict['designation'] = spans[0].get_text().strip()\n",
        "        item_dict['duration'] = spans[1].get_text().strip()\n",
        "        item_dict['location'] = spans[2].get_text().strip()\n",
        "\n",
        "        try:\n",
        "            item_dict['projects'] = spans[3].get_text().strip()\n",
        "        except:\n",
        "            item_dict['projects'] = \"\"\n",
        "\n",
        "        item_list.append(item_dict)\n",
        "\n",
        "\n",
        "    exp_dict['designations'] = item_list\n",
        "\n",
        "    return exp_dict\n",
        "\n",
        "item_list = []\n",
        "for exp in experience:\n",
        "    item_list.append(get_exp(exp))"
      ]
    },
    {
      "cell_type": "code",
      "execution_count": null,
      "metadata": {
        "id": "CHvcycLXQ6Mj"
      },
      "outputs": [],
      "source": [
        "profile_data['experience'] = item_list\n"
      ]
    },
    {
      "cell_type": "code",
      "execution_count": null,
      "metadata": {
        "id": "NyUQUeqJQ6Mj"
      },
      "outputs": [],
      "source": [
        "# profile_data"
      ]
    },
    {
      "cell_type": "markdown",
      "metadata": {
        "id": "LnwUW9IrQ6Mj"
      },
      "source": [
        "### Education"
      ]
    },
    {
      "cell_type": "code",
      "execution_count": null,
      "metadata": {
        "id": "jB0gKpBGQ6Mj"
      },
      "outputs": [],
      "source": [
        "for sec in sections:\n",
        "    if sec.find('div', {'id': 'education'}):\n",
        "        educations = sec"
      ]
    },
    {
      "cell_type": "code",
      "execution_count": null,
      "metadata": {
        "id": "P4uShDxfQ6Mj"
      },
      "outputs": [],
      "source": [
        "# educations.get_text().strip()"
      ]
    },
    {
      "cell_type": "code",
      "execution_count": null,
      "metadata": {
        "id": "WihTGdAWQ6Mj"
      },
      "outputs": [],
      "source": [
        "items = educations.find_all('div', {'class': 'gFJNglFOnyZmIAbxVkrWpQCmMhGSasZRfRtGlFg YcvguSXGGYgEmpWJOhQrhmNocNiIvvDjETE bAMoJMoZyFCvvmHkHNQEBnMuJTWUocrss'})"
      ]
    },
    {
      "cell_type": "code",
      "execution_count": null,
      "metadata": {
        "id": "tLqwSOtKQ6Mj",
        "outputId": "a9191f3d-226d-49f5-e940-1d98b72c966b"
      },
      "outputs": [
        {
          "data": {
            "text/plain": [
              "2"
            ]
          },
          "execution_count": 72,
          "metadata": {},
          "output_type": "execute_result"
        }
      ],
      "source": [
        "len(items)"
      ]
    },
    {
      "cell_type": "code",
      "execution_count": null,
      "metadata": {
        "id": "jxPsghHvQ6Mk"
      },
      "outputs": [],
      "source": [
        "def get_edu(item):\n",
        "    item_dict = {}\n",
        "    spans = item.find_all('span', {'class': 'visually-hidden'})\n",
        "\n",
        "    item_dict['college'] = spans[0].get_text().strip()\n",
        "    item_dict['degree'] = spans[1].get_text().strip()\n",
        "    item_dict['duration'] = spans[2].get_text().strip()\n",
        "    item_dict['project'] = spans[3].get_text().strip()\n",
        "\n",
        "    return item_dict\n",
        "\n",
        "item_list = []\n",
        "for item in items:\n",
        "    item_list.append(get_edu(item))\n",
        "\n",
        "profile_data['education'] = item_list\n"
      ]
    },
    {
      "cell_type": "code",
      "execution_count": null,
      "metadata": {
        "id": "jtIKSPh6Q6Mk"
      },
      "outputs": [],
      "source": [
        "# profile_data"
      ]
    },
    {
      "cell_type": "markdown",
      "metadata": {
        "id": "QD7Zw07LQ6Mk"
      },
      "source": [
        "### Licenses & certifications"
      ]
    },
    {
      "cell_type": "code",
      "execution_count": null,
      "metadata": {
        "id": "4AlqWyqeQ6Mk"
      },
      "outputs": [],
      "source": [
        "driver.find_element(By.ID, \"navigation-index-see-all-licenses-and-certifications\").click()"
      ]
    },
    {
      "cell_type": "code",
      "execution_count": null,
      "metadata": {
        "id": "6YInKMTlQ6Ml"
      },
      "outputs": [],
      "source": [
        "page_source = driver.page_source\n",
        "soup = BeautifulSoup(page_source, 'lxml')\n",
        "\n",
        "soup = soup.find('section', {'class': 'artdeco-card pb3'})"
      ]
    },
    {
      "cell_type": "code",
      "execution_count": null,
      "metadata": {
        "id": "t3mh35tDQ6Ml",
        "outputId": "c6008a90-28c9-4128-df36-d3a935a4a6a8"
      },
      "outputs": [
        {
          "data": {
            "text/plain": [
              "6"
            ]
          },
          "execution_count": 84,
          "metadata": {},
          "output_type": "execute_result"
        }
      ],
      "source": [
        "items = soup.find_all('div', {'class': 'gFJNglFOnyZmIAbxVkrWpQCmMhGSasZRfRtGlFg YcvguSXGGYgEmpWJOhQrhmNocNiIvvDjETE bAMoJMoZyFCvvmHkHNQEBnMuJTWUocrss'})\n",
        "\n",
        "len(items)"
      ]
    },
    {
      "cell_type": "code",
      "execution_count": null,
      "metadata": {
        "id": "OhrV9XL-Q6Mm"
      },
      "outputs": [],
      "source": [
        "item = items[0]\n",
        "\n",
        "def get_license(item):\n",
        "    spans = item.find_all('span', {'class': 'visually-hidden'})\n",
        "\n",
        "    item_dict = {}\n",
        "    item_dict['name'] = spans[0].get_text().strip()\n",
        "    item_dict['institute'] = spans[1].get_text().strip()\n",
        "    item_dict['issued_date'] = spans[2].get_text().strip()\n",
        "\n",
        "    return item_dict\n",
        "\n",
        "item_list = []\n",
        "for item in items:\n",
        "    item_list.append(get_license(item))\n",
        "\n",
        "profile_data['licenses'] = item_list\n"
      ]
    },
    {
      "cell_type": "code",
      "execution_count": null,
      "metadata": {
        "id": "dJvZbBVbQ6Mn"
      },
      "outputs": [],
      "source": [
        "driver.back()\n",
        "# profile_data\n"
      ]
    },
    {
      "cell_type": "markdown",
      "metadata": {
        "id": "vNPvryxCQ6Mn"
      },
      "source": [
        "### Projects"
      ]
    },
    {
      "cell_type": "code",
      "execution_count": null,
      "metadata": {
        "id": "Z-pzcb5VQ6Mn"
      },
      "outputs": [],
      "source": [
        "driver.find_element(By.ID, \"navigation-index-see-all-projects\").click()"
      ]
    },
    {
      "cell_type": "code",
      "execution_count": null,
      "metadata": {
        "id": "3kz2CkJ5Q6Mo"
      },
      "outputs": [],
      "source": [
        "page_source = driver.page_source\n",
        "soup = BeautifulSoup(page_source, 'lxml')\n",
        "\n",
        "soup = soup.find('section', {'class': 'artdeco-card pb3'})"
      ]
    },
    {
      "cell_type": "code",
      "execution_count": null,
      "metadata": {
        "id": "5haKnqULQ6Mo",
        "outputId": "cb5aad07-0084-4fba-9c35-c403038acee9"
      },
      "outputs": [
        {
          "data": {
            "text/plain": [
              "5"
            ]
          },
          "execution_count": 95,
          "metadata": {},
          "output_type": "execute_result"
        }
      ],
      "source": [
        "items = soup.find_all('div', {'class': 'gFJNglFOnyZmIAbxVkrWpQCmMhGSasZRfRtGlFg YcvguSXGGYgEmpWJOhQrhmNocNiIvvDjETE bAMoJMoZyFCvvmHkHNQEBnMuJTWUocrss'})\n",
        "\n",
        "len(items)"
      ]
    },
    {
      "cell_type": "code",
      "execution_count": null,
      "metadata": {
        "id": "5t82JJEjQ6Mo"
      },
      "outputs": [],
      "source": [
        "item = items[0]\n",
        "\n",
        "def get_project(item):\n",
        "    spans = item.find_all('span', {'class': 'visually-hidden'})\n",
        "\n",
        "    item_dict = {}\n",
        "    item_dict['project_name'] = spans[0].get_text().strip()\n",
        "    item_dict['duration'] = spans[1].get_text().strip()\n",
        "    item_dict['description'] = spans[2].get_text().strip()\n",
        "\n",
        "    return item_dict\n",
        "\n",
        "item_list = []\n",
        "for item in items:\n",
        "    item_list.append(get_project(item))\n",
        "\n",
        "profile_data['projects'] = item_list"
      ]
    },
    {
      "cell_type": "code",
      "execution_count": null,
      "metadata": {
        "id": "3DLleMZjQ6Mp"
      },
      "outputs": [],
      "source": [
        "driver.back()"
      ]
    },
    {
      "cell_type": "markdown",
      "metadata": {
        "id": "y_vsQaxHQ6Mp"
      },
      "source": [
        "### All Courses"
      ]
    },
    {
      "cell_type": "code",
      "execution_count": null,
      "metadata": {
        "id": "vd3j6ge3Q6Mp"
      },
      "outputs": [],
      "source": [
        "driver.find_element(By.ID, \"navigation-index-see-all-courses\").click()"
      ]
    },
    {
      "cell_type": "code",
      "execution_count": null,
      "metadata": {
        "id": "l4F_rq_eQ6Mp",
        "outputId": "99183378-1a9c-4e41-a88c-25859faad025"
      },
      "outputs": [
        {
          "data": {
            "text/plain": [
              "18"
            ]
          },
          "execution_count": 102,
          "metadata": {},
          "output_type": "execute_result"
        }
      ],
      "source": [
        "page_source = driver.page_source\n",
        "soup = BeautifulSoup(page_source, 'lxml')\n",
        "\n",
        "soup = soup.find('section', {'class': 'artdeco-card pb3'})\n",
        "\n",
        "items = soup.find_all('div', {'class': 'gFJNglFOnyZmIAbxVkrWpQCmMhGSasZRfRtGlFg YcvguSXGGYgEmpWJOhQrhmNocNiIvvDjETE bAMoJMoZyFCvvmHkHNQEBnMuJTWUocrss'})\n",
        "\n",
        "len(items)"
      ]
    },
    {
      "cell_type": "code",
      "execution_count": null,
      "metadata": {
        "id": "ofKMXm5uQ6Mq"
      },
      "outputs": [],
      "source": [
        "item = items[0]\n",
        "\n",
        "def get_course(item):\n",
        "    spans = item.find_all('span', {'class': 'visually-hidden'})\n",
        "\n",
        "    item_dict = {}\n",
        "    item_dict['course_name'] = spans[0].get_text().strip()\n",
        "    try:\n",
        "        item_dict['associated_with'] = spans[1].get_text().strip()\n",
        "    except:\n",
        "        item_dict['associated_with'] = \"\"\n",
        "\n",
        "    return item_dict\n",
        "\n",
        "item_list = []\n",
        "for item in items:\n",
        "    item_list.append(get_course(item))\n",
        "\n",
        "profile_data['courses'] = item_list"
      ]
    },
    {
      "cell_type": "code",
      "execution_count": null,
      "metadata": {
        "id": "gFLybTmsQ6Mq"
      },
      "outputs": [],
      "source": [
        "driver.back()"
      ]
    },
    {
      "cell_type": "markdown",
      "metadata": {
        "id": "9n4F2_0XQ6Mq"
      },
      "source": [
        "### Honors & awards"
      ]
    },
    {
      "cell_type": "code",
      "execution_count": null,
      "metadata": {
        "id": "zKUzWEMGQ6Mq"
      },
      "outputs": [],
      "source": [
        "driver.find_element(By.ID, \"navigation-index-see-all-honorsandawards\").click()"
      ]
    },
    {
      "cell_type": "code",
      "execution_count": null,
      "metadata": {
        "id": "kPfIwTq1Q6Mr",
        "outputId": "12f9e752-412d-4146-9992-9d0234f98de7"
      },
      "outputs": [
        {
          "data": {
            "text/plain": [
              "6"
            ]
          },
          "execution_count": 111,
          "metadata": {},
          "output_type": "execute_result"
        }
      ],
      "source": [
        "page_source = driver.page_source\n",
        "soup = BeautifulSoup(page_source, 'lxml')\n",
        "\n",
        "soup = soup.find('section', {'class': 'artdeco-card pb3'})\n",
        "\n",
        "items = soup.find_all('span', {'class': 'visually-hidden'})\n",
        "\n",
        "len(items)"
      ]
    },
    {
      "cell_type": "code",
      "execution_count": null,
      "metadata": {
        "id": "uTjtrv5TQ6Mr"
      },
      "outputs": [],
      "source": [
        "item_list = []\n",
        "for item in items:\n",
        "    item_list.append(item.get_text().strip())"
      ]
    },
    {
      "cell_type": "code",
      "execution_count": null,
      "metadata": {
        "id": "DmHAxiZ4Q6Mr"
      },
      "outputs": [],
      "source": [
        "profile_data['honors_and_awards'] = item_list"
      ]
    },
    {
      "cell_type": "code",
      "execution_count": null,
      "metadata": {
        "id": "NfycY7iZQ6Mr"
      },
      "outputs": [],
      "source": [
        "import json\n",
        "\n",
        "with open('data/profile_data_tutorial.json', 'w') as f:\n",
        "    json.dump(profile_data, f, indent=4)"
      ]
    },
    {
      "cell_type": "code",
      "execution_count": null,
      "metadata": {
        "id": "wNwo_SxnQ6Mr"
      },
      "outputs": [],
      "source": [
        "driver.back()"
      ]
    },
    {
      "cell_type": "code",
      "execution_count": null,
      "metadata": {
        "id": "Bh78wIVJQ6Mr"
      },
      "outputs": [],
      "source": []
    }
  ],
  "metadata": {
    "kernelspec": {
      "display_name": "ml",
      "language": "python",
      "name": "python3"
    },
    "language_info": {
      "codemirror_mode": {
        "name": "ipython",
        "version": 3
      },
      "file_extension": ".py",
      "mimetype": "text/x-python",
      "name": "python",
      "nbconvert_exporter": "python",
      "pygments_lexer": "ipython3",
      "version": "3.12.4"
    },
    "colab": {
      "provenance": []
    }
  },
  "nbformat": 4,
  "nbformat_minor": 0
}